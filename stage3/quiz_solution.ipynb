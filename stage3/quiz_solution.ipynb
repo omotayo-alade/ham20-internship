{
  "nbformat": 4,
  "nbformat_minor": 0,
  "metadata": {
    "kernelspec": {
      "display_name": "Python 3",
      "language": "python",
      "name": "python3"
    },
    "language_info": {
      "codemirror_mode": {
        "name": "ipython",
        "version": 3
      },
      "file_extension": ".py",
      "mimetype": "text/x-python",
      "name": "python",
      "nbconvert_exporter": "python",
      "pygments_lexer": "ipython3",
      "version": "3.8.3"
    },
    "colab": {
      "name": "quiz_solution.ipynb",
      "provenance": []
    }
  },
  "cells": [
    {
      "cell_type": "markdown",
      "metadata": {
        "id": "hfsECLnzypOj",
        "colab_type": "text"
      },
      "source": [
        "# Stage Three Quiz Session"
      ]
    },
    {
      "cell_type": "code",
      "metadata": {
        "id": "orkKblHtypOx",
        "colab_type": "code",
        "colab": {}
      },
      "source": [
        "# import relevant libraries\n",
        "import pandas as pd\n",
        "import numpy as np\n",
        "from sklearn.preprocessing import LabelEncoder\n",
        "from sklearn.preprocessing import StandardScaler\n",
        "from sklearn.model_selection import train_test_split\n",
        "from sklearn.ensemble import RandomForestClassifier\n",
        "from sklearn import metrics\n",
        "from sklearn.ensemble import ExtraTreesClassifier\n",
        "from sklearn.model_selection import RandomizedSearchCV\n",
        "from xgboost import XGBClassifier\n",
        "from lightgbm import LGBMClassifier"
      ],
      "execution_count": 1,
      "outputs": []
    },
    {
      "cell_type": "code",
      "metadata": {
        "id": "3udkdNHDypO9",
        "colab_type": "code",
        "colab": {}
      },
      "source": [
        "# load dataset into dataframe\n",
        "url = 'https://archive.ics.uci.edu/ml/machine-learning-databases/00471/Data_for_UCI_named.csv'\n",
        "df = pd.read_csv(url)"
      ],
      "execution_count": 2,
      "outputs": []
    },
    {
      "cell_type": "code",
      "metadata": {
        "id": "9-FJ1C4_ypP5",
        "colab_type": "code",
        "colab": {}
      },
      "source": [
        "df.drop('stab', axis=1, inplace=True)"
      ],
      "execution_count": 3,
      "outputs": []
    },
    {
      "cell_type": "code",
      "metadata": {
        "id": "orDdx-SvypQL",
        "colab_type": "code",
        "colab": {}
      },
      "source": [
        "encoder = LabelEncoder()\n",
        "df['stabf'] = encoder.fit_transform(df['stabf'])"
      ],
      "execution_count": 4,
      "outputs": []
    },
    {
      "cell_type": "code",
      "metadata": {
        "id": "4PHnXzGZypRL",
        "colab_type": "code",
        "colab": {}
      },
      "source": [
        "x = df.drop('stabf', axis=1)\n",
        "y = df['stabf']"
      ],
      "execution_count": 5,
      "outputs": []
    },
    {
      "cell_type": "code",
      "metadata": {
        "id": "nO6qACltypST",
        "colab_type": "code",
        "colab": {}
      },
      "source": [
        "x_train, x_test, y_train, y_test = train_test_split(x, y, test_size=0.2, random_state=1)"
      ],
      "execution_count": 6,
      "outputs": []
    },
    {
      "cell_type": "code",
      "metadata": {
        "id": "Q9XGnF1oypSz",
        "colab_type": "code",
        "colab": {}
      },
      "source": [
        "scaler = StandardScaler()\n",
        "\n",
        "scaled_df = scaler.fit_transform(x_train, y_train)\n",
        "x_train = pd.DataFrame(scaled_df, columns=x.columns)\n",
        "\n",
        "x_test = scaler.transform(x_test)\n",
        "x_test = pd.DataFrame(x_test, columns=x.columns)"
      ],
      "execution_count": 7,
      "outputs": []
    },
    {
      "cell_type": "markdown",
      "metadata": {
        "id": "uTBgGtP3ypTJ",
        "colab_type": "text"
      },
      "source": [
        "### Random Forest Classifier"
      ]
    },
    {
      "cell_type": "code",
      "metadata": {
        "id": "cIdH3JsBypTR",
        "colab_type": "code",
        "colab": {}
      },
      "source": [
        "from sklearn.ensemble import RandomForestClassifier"
      ],
      "execution_count": 8,
      "outputs": []
    },
    {
      "cell_type": "code",
      "metadata": {
        "id": "-B0k6p4qypTv",
        "colab_type": "code",
        "colab": {}
      },
      "source": [
        "rfc = RandomForestClassifier(random_state=1, verbose=0)"
      ],
      "execution_count": 9,
      "outputs": []
    },
    {
      "cell_type": "code",
      "metadata": {
        "id": "ePXCK_EYypT6",
        "colab_type": "code",
        "colab": {}
      },
      "source": [
        "rfc_model = rfc.fit(x_train, y_train)"
      ],
      "execution_count": 10,
      "outputs": []
    },
    {
      "cell_type": "code",
      "metadata": {
        "id": "TqL0FJQeypUG",
        "colab_type": "code",
        "colab": {}
      },
      "source": [
        "y_pred_rfc = rfc_model.predict(x_test)"
      ],
      "execution_count": 11,
      "outputs": []
    },
    {
      "cell_type": "code",
      "metadata": {
        "id": "Cjvw9k2WypUZ",
        "colab_type": "code",
        "colab": {
          "base_uri": "https://localhost:8080/",
          "height": 34
        },
        "outputId": "f24f3b94-e8fa-4ef6-869f-947162da2b56"
      },
      "source": [
        "y_pred_rfc[0:5]"
      ],
      "execution_count": 12,
      "outputs": [
        {
          "output_type": "execute_result",
          "data": {
            "text/plain": [
              "array([1, 1, 0, 0, 1])"
            ]
          },
          "metadata": {
            "tags": []
          },
          "execution_count": 12
        }
      ]
    },
    {
      "cell_type": "code",
      "metadata": {
        "id": "YynKOE6QypUw",
        "colab_type": "code",
        "colab": {
          "base_uri": "https://localhost:8080/",
          "height": 51
        },
        "outputId": "9e335f72-d333-439b-dda9-1ce0834b28f3"
      },
      "source": [
        "metrics.confusion_matrix(y_test, y_pred_rfc)"
      ],
      "execution_count": 13,
      "outputs": [
        {
          "output_type": "execute_result",
          "data": {
            "text/plain": [
              "array([[ 625,   87],\n",
              "       [  55, 1233]])"
            ]
          },
          "metadata": {
            "tags": []
          },
          "execution_count": 13
        }
      ]
    },
    {
      "cell_type": "code",
      "metadata": {
        "id": "ZnTus8oDypU5",
        "colab_type": "code",
        "colab": {}
      },
      "source": [
        "rfc_summary = pd.DataFrame(metrics.classification_report(y_test, y_pred_rfc, output_dict=True)).T"
      ],
      "execution_count": 14,
      "outputs": []
    },
    {
      "cell_type": "code",
      "metadata": {
        "id": "ONSTPHR9ypWE",
        "colab_type": "code",
        "colab": {
          "base_uri": "https://localhost:8080/",
          "height": 204
        },
        "outputId": "8e13e01c-961f-4433-c915-a89642990b06"
      },
      "source": [
        "rfc_summary"
      ],
      "execution_count": 49,
      "outputs": [
        {
          "output_type": "execute_result",
          "data": {
            "text/html": [
              "<div>\n",
              "<style scoped>\n",
              "    .dataframe tbody tr th:only-of-type {\n",
              "        vertical-align: middle;\n",
              "    }\n",
              "\n",
              "    .dataframe tbody tr th {\n",
              "        vertical-align: top;\n",
              "    }\n",
              "\n",
              "    .dataframe thead th {\n",
              "        text-align: right;\n",
              "    }\n",
              "</style>\n",
              "<table border=\"1\" class=\"dataframe\">\n",
              "  <thead>\n",
              "    <tr style=\"text-align: right;\">\n",
              "      <th></th>\n",
              "      <th>precision</th>\n",
              "      <th>recall</th>\n",
              "      <th>f1-score</th>\n",
              "      <th>support</th>\n",
              "    </tr>\n",
              "  </thead>\n",
              "  <tbody>\n",
              "    <tr>\n",
              "      <th>0</th>\n",
              "      <td>0.919118</td>\n",
              "      <td>0.877809</td>\n",
              "      <td>0.897989</td>\n",
              "      <td>712.000</td>\n",
              "    </tr>\n",
              "    <tr>\n",
              "      <th>1</th>\n",
              "      <td>0.934091</td>\n",
              "      <td>0.957298</td>\n",
              "      <td>0.945552</td>\n",
              "      <td>1288.000</td>\n",
              "    </tr>\n",
              "    <tr>\n",
              "      <th>accuracy</th>\n",
              "      <td>0.929000</td>\n",
              "      <td>0.929000</td>\n",
              "      <td>0.929000</td>\n",
              "      <td>0.929</td>\n",
              "    </tr>\n",
              "    <tr>\n",
              "      <th>macro avg</th>\n",
              "      <td>0.926604</td>\n",
              "      <td>0.917554</td>\n",
              "      <td>0.921770</td>\n",
              "      <td>2000.000</td>\n",
              "    </tr>\n",
              "    <tr>\n",
              "      <th>weighted avg</th>\n",
              "      <td>0.928760</td>\n",
              "      <td>0.929000</td>\n",
              "      <td>0.928619</td>\n",
              "      <td>2000.000</td>\n",
              "    </tr>\n",
              "  </tbody>\n",
              "</table>\n",
              "</div>"
            ],
            "text/plain": [
              "              precision    recall  f1-score   support\n",
              "0              0.919118  0.877809  0.897989   712.000\n",
              "1              0.934091  0.957298  0.945552  1288.000\n",
              "accuracy       0.929000  0.929000  0.929000     0.929\n",
              "macro avg      0.926604  0.917554  0.921770  2000.000\n",
              "weighted avg   0.928760  0.929000  0.928619  2000.000"
            ]
          },
          "metadata": {
            "tags": []
          },
          "execution_count": 49
        }
      ]
    },
    {
      "cell_type": "markdown",
      "metadata": {
        "id": "c7rLdBu-ypWd",
        "colab_type": "text"
      },
      "source": [
        "### ExtraTrees without Tuning"
      ]
    },
    {
      "cell_type": "code",
      "metadata": {
        "id": "GwanhwYsypWf",
        "colab_type": "code",
        "colab": {}
      },
      "source": [
        "from sklearn.ensemble import ExtraTreesClassifier"
      ],
      "execution_count": 16,
      "outputs": []
    },
    {
      "cell_type": "code",
      "metadata": {
        "id": "4Ahvy2AIypXd",
        "colab_type": "code",
        "colab": {}
      },
      "source": [
        "extra_no_tune = ExtraTreesClassifier(random_state=1)"
      ],
      "execution_count": 17,
      "outputs": []
    },
    {
      "cell_type": "code",
      "metadata": {
        "id": "l7BJCPOUypXy",
        "colab_type": "code",
        "colab": {}
      },
      "source": [
        "no_tuned_model = extra_no_tune.fit(x_train, y_train)"
      ],
      "execution_count": 18,
      "outputs": []
    },
    {
      "cell_type": "code",
      "metadata": {
        "id": "mYwuen32ypYE",
        "colab_type": "code",
        "colab": {}
      },
      "source": [
        "y_pred_extra_no_tune = no_tuned_model.predict(x_test)"
      ],
      "execution_count": 19,
      "outputs": []
    },
    {
      "cell_type": "code",
      "metadata": {
        "id": "SaACYwUkypZT",
        "colab_type": "code",
        "colab": {}
      },
      "source": [
        "extra_no_tune_summary = pd.DataFrame(metrics.classification_report(y_test, y_pred_extra_no_tune, output_dict=True)).T"
      ],
      "execution_count": 20,
      "outputs": []
    },
    {
      "cell_type": "code",
      "metadata": {
        "id": "jmLPraX3ypZh",
        "colab_type": "code",
        "colab": {
          "base_uri": "https://localhost:8080/",
          "height": 204
        },
        "outputId": "f987637f-a92a-4d87-e8f6-bd18acb91f1a"
      },
      "source": [
        "extra_no_tune_summary.round(4)"
      ],
      "execution_count": 44,
      "outputs": [
        {
          "output_type": "execute_result",
          "data": {
            "text/html": [
              "<div>\n",
              "<style scoped>\n",
              "    .dataframe tbody tr th:only-of-type {\n",
              "        vertical-align: middle;\n",
              "    }\n",
              "\n",
              "    .dataframe tbody tr th {\n",
              "        vertical-align: top;\n",
              "    }\n",
              "\n",
              "    .dataframe thead th {\n",
              "        text-align: right;\n",
              "    }\n",
              "</style>\n",
              "<table border=\"1\" class=\"dataframe\">\n",
              "  <thead>\n",
              "    <tr style=\"text-align: right;\">\n",
              "      <th></th>\n",
              "      <th>precision</th>\n",
              "      <th>recall</th>\n",
              "      <th>f1-score</th>\n",
              "      <th>support</th>\n",
              "    </tr>\n",
              "  </thead>\n",
              "  <tbody>\n",
              "    <tr>\n",
              "      <th>0</th>\n",
              "      <td>0.9410</td>\n",
              "      <td>0.8511</td>\n",
              "      <td>0.8938</td>\n",
              "      <td>712.000</td>\n",
              "    </tr>\n",
              "    <tr>\n",
              "      <th>1</th>\n",
              "      <td>0.9218</td>\n",
              "      <td>0.9705</td>\n",
              "      <td>0.9455</td>\n",
              "      <td>1288.000</td>\n",
              "    </tr>\n",
              "    <tr>\n",
              "      <th>accuracy</th>\n",
              "      <td>0.9280</td>\n",
              "      <td>0.9280</td>\n",
              "      <td>0.9280</td>\n",
              "      <td>0.928</td>\n",
              "    </tr>\n",
              "    <tr>\n",
              "      <th>macro avg</th>\n",
              "      <td>0.9314</td>\n",
              "      <td>0.9108</td>\n",
              "      <td>0.9197</td>\n",
              "      <td>2000.000</td>\n",
              "    </tr>\n",
              "    <tr>\n",
              "      <th>weighted avg</th>\n",
              "      <td>0.9287</td>\n",
              "      <td>0.9280</td>\n",
              "      <td>0.9271</td>\n",
              "      <td>2000.000</td>\n",
              "    </tr>\n",
              "  </tbody>\n",
              "</table>\n",
              "</div>"
            ],
            "text/plain": [
              "              precision  recall  f1-score   support\n",
              "0                0.9410  0.8511    0.8938   712.000\n",
              "1                0.9218  0.9705    0.9455  1288.000\n",
              "accuracy         0.9280  0.9280    0.9280     0.928\n",
              "macro avg        0.9314  0.9108    0.9197  2000.000\n",
              "weighted avg     0.9287  0.9280    0.9271  2000.000"
            ]
          },
          "metadata": {
            "tags": []
          },
          "execution_count": 44
        }
      ]
    },
    {
      "cell_type": "markdown",
      "metadata": {
        "id": "G0CbtmSMypZy",
        "colab_type": "text"
      },
      "source": [
        "### ExtraTrees with Tuning"
      ]
    },
    {
      "cell_type": "code",
      "metadata": {
        "id": "LZZSPAJkypZz",
        "colab_type": "code",
        "colab": {}
      },
      "source": [
        "n_estimators = [50, 100, 300, 500, 1000]\n",
        "min_samples_split = [2, 3, 5, 7, 9]\n",
        "min_samples_leaf = [1, 2, 4, 6, 8]\n",
        "max_features = ['auto', 'sqrt', 'log2', None] \n",
        "hyperparameter_grid = {'n_estimators': n_estimators,\n",
        "                       'min_samples_leaf': min_samples_leaf,\n",
        "                       'min_samples_split': min_samples_split,\n",
        "                       'max_features': max_features}"
      ],
      "execution_count": 22,
      "outputs": []
    },
    {
      "cell_type": "code",
      "metadata": {
        "id": "D9JNzpWFypay",
        "colab_type": "code",
        "colab": {}
      },
      "source": [
        "est = ExtraTreesClassifier(random_state=1)"
      ],
      "execution_count": 23,
      "outputs": []
    },
    {
      "cell_type": "code",
      "metadata": {
        "id": "pLbzwVFj969E",
        "colab_type": "code",
        "colab": {}
      },
      "source": [
        "RandomizedSearchCV?"
      ],
      "execution_count": 50,
      "outputs": []
    },
    {
      "cell_type": "code",
      "metadata": {
        "id": "fIG6jgC9ypbZ",
        "colab_type": "code",
        "colab": {}
      },
      "source": [
        "rcv = RandomizedSearchCV(est, hyperparameter_grid, cv=5, n_iter=10, scoring = 'accuracy', n_jobs = -1, verbose = 1, random_state = 1)"
      ],
      "execution_count": 51,
      "outputs": []
    },
    {
      "cell_type": "code",
      "metadata": {
        "id": "DbO4LFQbypbu",
        "colab_type": "code",
        "colab": {
          "base_uri": "https://localhost:8080/",
          "height": 85
        },
        "outputId": "13541d66-27c1-467e-be3b-cd2f4cf216f1"
      },
      "source": [
        "extra_model = rcv.fit(x_train, y_train)"
      ],
      "execution_count": 52,
      "outputs": [
        {
          "output_type": "stream",
          "text": [
            "Fitting 5 folds for each of 10 candidates, totalling 50 fits\n"
          ],
          "name": "stdout"
        },
        {
          "output_type": "stream",
          "text": [
            "[Parallel(n_jobs=-1)]: Using backend LokyBackend with 2 concurrent workers.\n",
            "[Parallel(n_jobs=-1)]: Done  46 tasks      | elapsed:  1.5min\n",
            "[Parallel(n_jobs=-1)]: Done  50 out of  50 | elapsed:  1.5min finished\n"
          ],
          "name": "stderr"
        }
      ]
    },
    {
      "cell_type": "code",
      "metadata": {
        "id": "Zhr1zRz8ypcO",
        "colab_type": "code",
        "colab": {}
      },
      "source": [
        "y_pred_extra = extra_model.predict(x_test)"
      ],
      "execution_count": 53,
      "outputs": []
    },
    {
      "cell_type": "code",
      "metadata": {
        "id": "rnpyBuPuypcc",
        "colab_type": "code",
        "colab": {
          "base_uri": "https://localhost:8080/",
          "height": 51
        },
        "outputId": "bf432f24-6e9f-49d2-dc33-4fe27d3a1377"
      },
      "source": [
        "metrics.confusion_matrix(y_test, y_pred_extra)"
      ],
      "execution_count": 54,
      "outputs": [
        {
          "output_type": "execute_result",
          "data": {
            "text/plain": [
              "array([[ 619,   93],\n",
              "       [  53, 1235]])"
            ]
          },
          "metadata": {
            "tags": []
          },
          "execution_count": 54
        }
      ]
    },
    {
      "cell_type": "code",
      "metadata": {
        "id": "AYb6wMHTypcn",
        "colab_type": "code",
        "colab": {}
      },
      "source": [
        "extra_summary = pd.DataFrame(metrics.classification_report(y_test, y_pred_extra, output_dict=True)).T"
      ],
      "execution_count": 55,
      "outputs": []
    },
    {
      "cell_type": "code",
      "metadata": {
        "id": "14imEEeBypc_",
        "colab_type": "code",
        "colab": {
          "base_uri": "https://localhost:8080/",
          "height": 204
        },
        "outputId": "5c440281-1500-495e-8bd1-2c2f8c6cf6bc"
      },
      "source": [
        "extra_summary.round(4)"
      ],
      "execution_count": 56,
      "outputs": [
        {
          "output_type": "execute_result",
          "data": {
            "text/html": [
              "<div>\n",
              "<style scoped>\n",
              "    .dataframe tbody tr th:only-of-type {\n",
              "        vertical-align: middle;\n",
              "    }\n",
              "\n",
              "    .dataframe tbody tr th {\n",
              "        vertical-align: top;\n",
              "    }\n",
              "\n",
              "    .dataframe thead th {\n",
              "        text-align: right;\n",
              "    }\n",
              "</style>\n",
              "<table border=\"1\" class=\"dataframe\">\n",
              "  <thead>\n",
              "    <tr style=\"text-align: right;\">\n",
              "      <th></th>\n",
              "      <th>precision</th>\n",
              "      <th>recall</th>\n",
              "      <th>f1-score</th>\n",
              "      <th>support</th>\n",
              "    </tr>\n",
              "  </thead>\n",
              "  <tbody>\n",
              "    <tr>\n",
              "      <th>0</th>\n",
              "      <td>0.9211</td>\n",
              "      <td>0.8694</td>\n",
              "      <td>0.8945</td>\n",
              "      <td>712.000</td>\n",
              "    </tr>\n",
              "    <tr>\n",
              "      <th>1</th>\n",
              "      <td>0.9300</td>\n",
              "      <td>0.9589</td>\n",
              "      <td>0.9442</td>\n",
              "      <td>1288.000</td>\n",
              "    </tr>\n",
              "    <tr>\n",
              "      <th>accuracy</th>\n",
              "      <td>0.9270</td>\n",
              "      <td>0.9270</td>\n",
              "      <td>0.9270</td>\n",
              "      <td>0.927</td>\n",
              "    </tr>\n",
              "    <tr>\n",
              "      <th>macro avg</th>\n",
              "      <td>0.9256</td>\n",
              "      <td>0.9141</td>\n",
              "      <td>0.9193</td>\n",
              "      <td>2000.000</td>\n",
              "    </tr>\n",
              "    <tr>\n",
              "      <th>weighted avg</th>\n",
              "      <td>0.9268</td>\n",
              "      <td>0.9270</td>\n",
              "      <td>0.9265</td>\n",
              "      <td>2000.000</td>\n",
              "    </tr>\n",
              "  </tbody>\n",
              "</table>\n",
              "</div>"
            ],
            "text/plain": [
              "              precision  recall  f1-score   support\n",
              "0                0.9211  0.8694    0.8945   712.000\n",
              "1                0.9300  0.9589    0.9442  1288.000\n",
              "accuracy         0.9270  0.9270    0.9270     0.927\n",
              "macro avg        0.9256  0.9141    0.9193  2000.000\n",
              "weighted avg     0.9268  0.9270    0.9265  2000.000"
            ]
          },
          "metadata": {
            "tags": []
          },
          "execution_count": 56
        }
      ]
    },
    {
      "cell_type": "code",
      "metadata": {
        "id": "I8Im2Hn_-8hC",
        "colab_type": "code",
        "colab": {
          "base_uri": "https://localhost:8080/",
          "height": 85
        },
        "outputId": "2f740eb0-baec-45cd-d889-749584449ee7"
      },
      "source": [
        "extra_model.best_params_"
      ],
      "execution_count": 57,
      "outputs": [
        {
          "output_type": "execute_result",
          "data": {
            "text/plain": [
              "{'max_features': None,\n",
              " 'min_samples_leaf': 8,\n",
              " 'min_samples_split': 2,\n",
              " 'n_estimators': 1000}"
            ]
          },
          "metadata": {
            "tags": []
          },
          "execution_count": 57
        }
      ]
    },
    {
      "cell_type": "code",
      "metadata": {
        "id": "u0kF9dSq_W_v",
        "colab_type": "code",
        "colab": {}
      },
      "source": [
        "est = ExtraTreesClassifier(max_features=None, min_samples_leaf=8, min_samples_split=2, n_estimators=1000, random_state=1)"
      ],
      "execution_count": 60,
      "outputs": []
    },
    {
      "cell_type": "code",
      "metadata": {
        "id": "aqLfgkpd_5gC",
        "colab_type": "code",
        "colab": {}
      },
      "source": [
        "optimal = est.fit(x_train, y_train)"
      ],
      "execution_count": 61,
      "outputs": []
    },
    {
      "cell_type": "code",
      "metadata": {
        "id": "29KJUtxHAFbT",
        "colab_type": "code",
        "colab": {
          "base_uri": "https://localhost:8080/",
          "height": 68
        },
        "outputId": "245871ee-a6ab-41f5-ee7f-4f3406787d0e"
      },
      "source": [
        "optimal.feature_importances_"
      ],
      "execution_count": 64,
      "outputs": [
        {
          "output_type": "execute_result",
          "data": {
            "text/plain": [
              "array([0.13723975, 0.1405075 , 0.13468029, 0.13541676, 0.00368342,\n",
              "       0.00533686, 0.00542927, 0.00496249, 0.10256244, 0.10757765,\n",
              "       0.11306268, 0.10954089])"
            ]
          },
          "metadata": {
            "tags": []
          },
          "execution_count": 64
        }
      ]
    },
    {
      "cell_type": "code",
      "metadata": {
        "id": "vEgFf7iSAd9a",
        "colab_type": "code",
        "colab": {
          "base_uri": "https://localhost:8080/",
          "height": 68
        },
        "outputId": "9dcd045b-06ee-47ef-b9f5-7a1d134add05"
      },
      "source": [
        "x.columns"
      ],
      "execution_count": 65,
      "outputs": [
        {
          "output_type": "execute_result",
          "data": {
            "text/plain": [
              "Index(['tau1', 'tau2', 'tau3', 'tau4', 'p1', 'p2', 'p3', 'p4', 'g1', 'g2',\n",
              "       'g3', 'g4'],\n",
              "      dtype='object')"
            ]
          },
          "metadata": {
            "tags": []
          },
          "execution_count": 65
        }
      ]
    },
    {
      "cell_type": "markdown",
      "metadata": {
        "id": "Xo78_qhnypdb",
        "colab_type": "text"
      },
      "source": [
        "### XGBoost Classifier"
      ]
    },
    {
      "cell_type": "code",
      "metadata": {
        "id": "3-yq26Ecypdf",
        "colab_type": "code",
        "colab": {}
      },
      "source": [
        "xgb = XGBClassifier(random_state=1)"
      ],
      "execution_count": 30,
      "outputs": []
    },
    {
      "cell_type": "code",
      "metadata": {
        "id": "muiIEKk0ypd6",
        "colab_type": "code",
        "colab": {}
      },
      "source": [
        "xgb_model = xgb.fit(x_train, y_train)"
      ],
      "execution_count": 31,
      "outputs": []
    },
    {
      "cell_type": "code",
      "metadata": {
        "id": "r4UtbgAYypeH",
        "colab_type": "code",
        "colab": {}
      },
      "source": [
        "y_pred_xgb = xgb_model.predict(x_test)"
      ],
      "execution_count": 32,
      "outputs": []
    },
    {
      "cell_type": "code",
      "metadata": {
        "id": "u4oRSscHypeT",
        "colab_type": "code",
        "colab": {
          "base_uri": "https://localhost:8080/",
          "height": 51
        },
        "outputId": "f3ec6a10-9539-4ad1-dad9-acbc88ce0f2e"
      },
      "source": [
        "metrics.confusion_matrix(y_test, y_pred_xgb)"
      ],
      "execution_count": 33,
      "outputs": [
        {
          "output_type": "execute_result",
          "data": {
            "text/plain": [
              "array([[ 603,  109],\n",
              "       [  52, 1236]])"
            ]
          },
          "metadata": {
            "tags": []
          },
          "execution_count": 33
        }
      ]
    },
    {
      "cell_type": "code",
      "metadata": {
        "id": "Rr6TJBI7ypek",
        "colab_type": "code",
        "colab": {}
      },
      "source": [
        "xgboost_summary = pd.DataFrame(metrics.classification_report(y_test, y_pred_xgb, output_dict=True)).T"
      ],
      "execution_count": 34,
      "outputs": []
    },
    {
      "cell_type": "code",
      "metadata": {
        "id": "YrEN7PQlypeu",
        "colab_type": "code",
        "colab": {
          "base_uri": "https://localhost:8080/",
          "height": 204
        },
        "outputId": "ee157393-37a3-4000-f4f2-47a56cdc60a2"
      },
      "source": [
        "xgboost_summary.round(4)"
      ],
      "execution_count": 46,
      "outputs": [
        {
          "output_type": "execute_result",
          "data": {
            "text/html": [
              "<div>\n",
              "<style scoped>\n",
              "    .dataframe tbody tr th:only-of-type {\n",
              "        vertical-align: middle;\n",
              "    }\n",
              "\n",
              "    .dataframe tbody tr th {\n",
              "        vertical-align: top;\n",
              "    }\n",
              "\n",
              "    .dataframe thead th {\n",
              "        text-align: right;\n",
              "    }\n",
              "</style>\n",
              "<table border=\"1\" class=\"dataframe\">\n",
              "  <thead>\n",
              "    <tr style=\"text-align: right;\">\n",
              "      <th></th>\n",
              "      <th>precision</th>\n",
              "      <th>recall</th>\n",
              "      <th>f1-score</th>\n",
              "      <th>support</th>\n",
              "    </tr>\n",
              "  </thead>\n",
              "  <tbody>\n",
              "    <tr>\n",
              "      <th>0</th>\n",
              "      <td>0.9206</td>\n",
              "      <td>0.8469</td>\n",
              "      <td>0.8822</td>\n",
              "      <td>712.0000</td>\n",
              "    </tr>\n",
              "    <tr>\n",
              "      <th>1</th>\n",
              "      <td>0.9190</td>\n",
              "      <td>0.9596</td>\n",
              "      <td>0.9389</td>\n",
              "      <td>1288.0000</td>\n",
              "    </tr>\n",
              "    <tr>\n",
              "      <th>accuracy</th>\n",
              "      <td>0.9195</td>\n",
              "      <td>0.9195</td>\n",
              "      <td>0.9195</td>\n",
              "      <td>0.9195</td>\n",
              "    </tr>\n",
              "    <tr>\n",
              "      <th>macro avg</th>\n",
              "      <td>0.9198</td>\n",
              "      <td>0.9033</td>\n",
              "      <td>0.9105</td>\n",
              "      <td>2000.0000</td>\n",
              "    </tr>\n",
              "    <tr>\n",
              "      <th>weighted avg</th>\n",
              "      <td>0.9195</td>\n",
              "      <td>0.9195</td>\n",
              "      <td>0.9187</td>\n",
              "      <td>2000.0000</td>\n",
              "    </tr>\n",
              "  </tbody>\n",
              "</table>\n",
              "</div>"
            ],
            "text/plain": [
              "              precision  recall  f1-score    support\n",
              "0                0.9206  0.8469    0.8822   712.0000\n",
              "1                0.9190  0.9596    0.9389  1288.0000\n",
              "accuracy         0.9195  0.9195    0.9195     0.9195\n",
              "macro avg        0.9198  0.9033    0.9105  2000.0000\n",
              "weighted avg     0.9195  0.9195    0.9187  2000.0000"
            ]
          },
          "metadata": {
            "tags": []
          },
          "execution_count": 46
        }
      ]
    },
    {
      "cell_type": "code",
      "metadata": {
        "id": "V7x4C0NAype_",
        "colab_type": "code",
        "colab": {
          "base_uri": "https://localhost:8080/",
          "height": 204
        },
        "outputId": "f74c2317-6bcb-4ece-b8b1-c796001975b7"
      },
      "source": [
        "xgb = XGBClassifier(random_state=1).fit(x_train, y_train)\n",
        "result = pd.DataFrame(metrics.classification_report(y_test, xgb.predict(x_test), output_dict=True)).T\n",
        "result.round(4)"
      ],
      "execution_count": 47,
      "outputs": [
        {
          "output_type": "execute_result",
          "data": {
            "text/html": [
              "<div>\n",
              "<style scoped>\n",
              "    .dataframe tbody tr th:only-of-type {\n",
              "        vertical-align: middle;\n",
              "    }\n",
              "\n",
              "    .dataframe tbody tr th {\n",
              "        vertical-align: top;\n",
              "    }\n",
              "\n",
              "    .dataframe thead th {\n",
              "        text-align: right;\n",
              "    }\n",
              "</style>\n",
              "<table border=\"1\" class=\"dataframe\">\n",
              "  <thead>\n",
              "    <tr style=\"text-align: right;\">\n",
              "      <th></th>\n",
              "      <th>precision</th>\n",
              "      <th>recall</th>\n",
              "      <th>f1-score</th>\n",
              "      <th>support</th>\n",
              "    </tr>\n",
              "  </thead>\n",
              "  <tbody>\n",
              "    <tr>\n",
              "      <th>0</th>\n",
              "      <td>0.9206</td>\n",
              "      <td>0.8469</td>\n",
              "      <td>0.8822</td>\n",
              "      <td>712.0000</td>\n",
              "    </tr>\n",
              "    <tr>\n",
              "      <th>1</th>\n",
              "      <td>0.9190</td>\n",
              "      <td>0.9596</td>\n",
              "      <td>0.9389</td>\n",
              "      <td>1288.0000</td>\n",
              "    </tr>\n",
              "    <tr>\n",
              "      <th>accuracy</th>\n",
              "      <td>0.9195</td>\n",
              "      <td>0.9195</td>\n",
              "      <td>0.9195</td>\n",
              "      <td>0.9195</td>\n",
              "    </tr>\n",
              "    <tr>\n",
              "      <th>macro avg</th>\n",
              "      <td>0.9198</td>\n",
              "      <td>0.9033</td>\n",
              "      <td>0.9105</td>\n",
              "      <td>2000.0000</td>\n",
              "    </tr>\n",
              "    <tr>\n",
              "      <th>weighted avg</th>\n",
              "      <td>0.9195</td>\n",
              "      <td>0.9195</td>\n",
              "      <td>0.9187</td>\n",
              "      <td>2000.0000</td>\n",
              "    </tr>\n",
              "  </tbody>\n",
              "</table>\n",
              "</div>"
            ],
            "text/plain": [
              "              precision  recall  f1-score    support\n",
              "0                0.9206  0.8469    0.8822   712.0000\n",
              "1                0.9190  0.9596    0.9389  1288.0000\n",
              "accuracy         0.9195  0.9195    0.9195     0.9195\n",
              "macro avg        0.9198  0.9033    0.9105  2000.0000\n",
              "weighted avg     0.9195  0.9195    0.9187  2000.0000"
            ]
          },
          "metadata": {
            "tags": []
          },
          "execution_count": 47
        }
      ]
    },
    {
      "cell_type": "markdown",
      "metadata": {
        "id": "jpsz3L3IypfI",
        "colab_type": "text"
      },
      "source": [
        "### LightGBM Classifier"
      ]
    },
    {
      "cell_type": "code",
      "metadata": {
        "id": "Jhst2QmeypfK",
        "colab_type": "code",
        "colab": {}
      },
      "source": [
        "lgbm = LGBMClassifier(random_state=1)"
      ],
      "execution_count": 37,
      "outputs": []
    },
    {
      "cell_type": "code",
      "metadata": {
        "id": "ZST6PL-BypfT",
        "colab_type": "code",
        "colab": {}
      },
      "source": [
        "lgbm_model = lgbm.fit(x_train, y_train)"
      ],
      "execution_count": 38,
      "outputs": []
    },
    {
      "cell_type": "code",
      "metadata": {
        "id": "UeDY30ljypfp",
        "colab_type": "code",
        "colab": {}
      },
      "source": [
        "y_pred_lgbm = lgbm_model.predict(x_test)"
      ],
      "execution_count": 39,
      "outputs": []
    },
    {
      "cell_type": "code",
      "metadata": {
        "id": "55ZIjvaTypgN",
        "colab_type": "code",
        "colab": {
          "base_uri": "https://localhost:8080/",
          "height": 51
        },
        "outputId": "a299b455-5638-4c03-bafc-077a7dd91f18"
      },
      "source": [
        "metrics.confusion_matrix(y_test, y_pred_lgbm)"
      ],
      "execution_count": 40,
      "outputs": [
        {
          "output_type": "execute_result",
          "data": {
            "text/plain": [
              "array([[ 635,   77],\n",
              "       [  48, 1240]])"
            ]
          },
          "metadata": {
            "tags": []
          },
          "execution_count": 40
        }
      ]
    },
    {
      "cell_type": "code",
      "metadata": {
        "id": "GeRl0UB3ypgY",
        "colab_type": "code",
        "colab": {}
      },
      "source": [
        "lgbm_summary = pd.DataFrame(metrics.classification_report(y_test, y_pred_lgbm, output_dict=True)).T"
      ],
      "execution_count": 41,
      "outputs": []
    },
    {
      "cell_type": "code",
      "metadata": {
        "id": "D3YWtU42ypg1",
        "colab_type": "code",
        "colab": {
          "base_uri": "https://localhost:8080/",
          "height": 204
        },
        "outputId": "b53e469e-d2b2-4caa-839b-eaad8f1ee538"
      },
      "source": [
        "lgbm_summary.round(4)"
      ],
      "execution_count": 48,
      "outputs": [
        {
          "output_type": "execute_result",
          "data": {
            "text/html": [
              "<div>\n",
              "<style scoped>\n",
              "    .dataframe tbody tr th:only-of-type {\n",
              "        vertical-align: middle;\n",
              "    }\n",
              "\n",
              "    .dataframe tbody tr th {\n",
              "        vertical-align: top;\n",
              "    }\n",
              "\n",
              "    .dataframe thead th {\n",
              "        text-align: right;\n",
              "    }\n",
              "</style>\n",
              "<table border=\"1\" class=\"dataframe\">\n",
              "  <thead>\n",
              "    <tr style=\"text-align: right;\">\n",
              "      <th></th>\n",
              "      <th>precision</th>\n",
              "      <th>recall</th>\n",
              "      <th>f1-score</th>\n",
              "      <th>support</th>\n",
              "    </tr>\n",
              "  </thead>\n",
              "  <tbody>\n",
              "    <tr>\n",
              "      <th>0</th>\n",
              "      <td>0.9297</td>\n",
              "      <td>0.8919</td>\n",
              "      <td>0.9104</td>\n",
              "      <td>712.0000</td>\n",
              "    </tr>\n",
              "    <tr>\n",
              "      <th>1</th>\n",
              "      <td>0.9415</td>\n",
              "      <td>0.9627</td>\n",
              "      <td>0.9520</td>\n",
              "      <td>1288.0000</td>\n",
              "    </tr>\n",
              "    <tr>\n",
              "      <th>accuracy</th>\n",
              "      <td>0.9375</td>\n",
              "      <td>0.9375</td>\n",
              "      <td>0.9375</td>\n",
              "      <td>0.9375</td>\n",
              "    </tr>\n",
              "    <tr>\n",
              "      <th>macro avg</th>\n",
              "      <td>0.9356</td>\n",
              "      <td>0.9273</td>\n",
              "      <td>0.9312</td>\n",
              "      <td>2000.0000</td>\n",
              "    </tr>\n",
              "    <tr>\n",
              "      <th>weighted avg</th>\n",
              "      <td>0.9373</td>\n",
              "      <td>0.9375</td>\n",
              "      <td>0.9372</td>\n",
              "      <td>2000.0000</td>\n",
              "    </tr>\n",
              "  </tbody>\n",
              "</table>\n",
              "</div>"
            ],
            "text/plain": [
              "              precision  recall  f1-score    support\n",
              "0                0.9297  0.8919    0.9104   712.0000\n",
              "1                0.9415  0.9627    0.9520  1288.0000\n",
              "accuracy         0.9375  0.9375    0.9375     0.9375\n",
              "macro avg        0.9356  0.9273    0.9312  2000.0000\n",
              "weighted avg     0.9373  0.9375    0.9372  2000.0000"
            ]
          },
          "metadata": {
            "tags": []
          },
          "execution_count": 48
        }
      ]
    },
    {
      "cell_type": "markdown",
      "metadata": {
        "id": "KRoennIdyphH",
        "colab_type": "text"
      },
      "source": [
        "### Question 1"
      ]
    },
    {
      "cell_type": "code",
      "metadata": {
        "id": "Qj6ZFxhAB1R-",
        "colab_type": "code",
        "colab": {
          "base_uri": "https://localhost:8080/",
          "height": 34
        },
        "outputId": "1f61fabd-f1b8-413b-877d-d7fe1f2719fc"
      },
      "source": [
        "recall = 355 / (355 + 45)\n",
        "precision = 355 / (355 + 1480)\n",
        "\n",
        "f1 = 2 * ((recall * precision) / (recall + precision))\n",
        "f1"
      ],
      "execution_count": 66,
      "outputs": [
        {
          "output_type": "execute_result",
          "data": {
            "text/plain": [
              "0.3176733780760626"
            ]
          },
          "metadata": {
            "tags": []
          },
          "execution_count": 66
        }
      ]
    }
  ]
}